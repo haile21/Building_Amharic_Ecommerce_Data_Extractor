{
 "cells": [
  {
   "cell_type": "code",
   "execution_count": null,
   "id": "initial_id",
   "metadata": {
    "collapsed": true
   },
   "outputs": [],
   "source": [
    "# import necessarry libraries \n",
    "import numpy as np\n",
    "import pandas as pd\n",
    "import matplotlib.pyplot as plt\n",
    "import seaborn as sns\n",
    "# Add the parent directory to the system path\n",
    "import os \n",
    "import sys \n",
    "sys.path.append(os.path.abspath(os.path.join('..')))\n",
    "# importing modules from scripts\n",
    "import scripts.labeling as l\n",
    "df = pd.read_csv('../data/cleaned_data.csv')\n",
    "df"
   ]
  },
  {
   "metadata": {},
   "cell_type": "code",
   "outputs": [],
   "execution_count": null,
   "source": [
    "df.drop(columns='Unnamed: 0')\n",
    "df = df.dropna(subset=['Message'])\n"
   ],
   "id": "c0cf41d67a11b3cd"
  },
  {
   "metadata": {},
   "cell_type": "code",
   "outputs": [],
   "execution_count": null,
   "source": [
    "message_cleaned = df['Message'].isnull().sum()\n",
    "print(f\"Numer of NAN values in Message columns is {message_cleaned}\")"
   ],
   "id": "52431342c91ba368"
  },
  {
   "metadata": {},
   "cell_type": "code",
   "outputs": [],
   "execution_count": null,
   "source": [
    "# Apply the updated function to the non-null messages\n",
    "df['Labeled_Message'] = df['Message'].apply(l.label_message_utf8_with_birr)\n",
    "\n",
    "# Display the updated DataFrame\n",
    "df.head()"
   ],
   "id": "4fe64e337db6752a"
  },
  {
   "metadata": {},
   "cell_type": "code",
   "outputs": [],
   "execution_count": null,
   "source": [
    "# Save the updated labeled dataset to a file in CoNLL format\n",
    "labeled_data_birr_path = '../data/labeled_telegram_product_price_location.txt-'\n",
    "with open(labeled_data_birr_path, 'w', encoding='utf-8') as f:\n",
    "    for index, row in df.iterrows():\n",
    "        f.write(f\"{row['Labeled_Message']}\\n\\n\")"
   ],
   "id": "115112dcd690f8b3"
  },
  {
   "metadata": {},
   "cell_type": "code",
   "outputs": [],
   "execution_count": null,
   "source": [
    "# Save the labeled data to a .conll file\n",
    "conll_file_path = '../data/@Shageonlinestore_labeled_data.conll'\n",
    "with open(conll_file_path, 'w', encoding='utf-8') as f:\n",
    "    for labeled_message in df['Labeled_Message']:\n",
    "        f.write(f\"{labeled_message}\\n\\n\")\n",
    "\n",
    "print(f\"Labeled data saved to {conll_file_path}\")"
   ],
   "id": "76df0d2ff86cb126"
  }
 ],
 "metadata": {
  "kernelspec": {
   "display_name": "Python 3",
   "language": "python",
   "name": "python3"
  },
  "language_info": {
   "codemirror_mode": {
    "name": "ipython",
    "version": 2
   },
   "file_extension": ".py",
   "mimetype": "text/x-python",
   "name": "python",
   "nbconvert_exporter": "python",
   "pygments_lexer": "ipython2",
   "version": "2.7.6"
  }
 },
 "nbformat": 4,
 "nbformat_minor": 5
}
