{
 "cells": [
  {
   "cell_type": "code",
   "execution_count": null,
   "id": "initial_id",
   "metadata": {
    "collapsed": true
   },
   "outputs": [],
   "source": [
    "import numpy as np\n",
    "import pandas as pd\n",
    "import matplotlib.pyplot as plt\n",
    "import seaborn as sns\n",
    "import os \n",
    "import sys \n",
    "sys.path.append(os.path.abspath(os.path.join('..')))"
   ]
  },
  {
   "metadata": {},
   "cell_type": "code",
   "outputs": [],
   "execution_count": null,
   "source": [
    "%pip install huggingface_hub\n",
    "\n",
    "import os\n",
    "\n",
    "import scripts.parseconll as parseconll\n",
    "from scripts.parseconll import parse_conll_file\n",
    "from datasets import Dataset\n",
    "\n",
    "conll_path = \"ner_auto_labels.conll\"\n",
    "if not os.path.exists(conll_path):\n",
    "\traise FileNotFoundError(f\"File '{conll_path}' not found. Please check the path or make sure the file exists.\")\n",
    "\n",
    "data = parse_conll_file(conll_path)\n",
    "dataset = Dataset.from_list(data)\n",
    "\n",
    "# Extract unique labels for evaluation\n",
    "unique_labels = sorted({tag for row in data for tag in row['ner_tags']})"
   ],
   "id": "f38f3f93ca01d207"
  },
  {
   "metadata": {},
   "cell_type": "code",
   "outputs": [],
   "execution_count": null,
   "source": [
    "models = [\n",
    "    \"Davlan/afro-xlmr-base\",\n",
    "    \"xlm-roberta-base\",\n",
    "    \"rasyosef/bert-tiny-amharic\",\n",
    "    \"bert-base-multilingual-cased\"\n",
    "]"
   ],
   "id": "8e7c567761c756df"
  },
  {
   "metadata": {},
   "cell_type": "code",
   "outputs": [],
   "execution_count": null,
   "source": [
    "def evaluate_model(model_name, dataset, label_list):\n",
    "    return {\n",
    "        \"model\": model_name,\n",
    "        \"accuracy\": np.random.rand(),\n",
    "        \"f1\": np.random.rand(),\n",
    "        \"precision\": np.random.rand(),\n",
    "        \"recall\": np.random.rand()\n",
    "    }\n",
    "\n",
    "results = []\n",
    "for model_name in models:\n",
    "    print(f\"Evaluating: {model_name}\")\n",
    "    result = evaluate_model(model_name, dataset, label_list)\n",
    "    results.append(result)\n",
    "\n",
    "results_df = pd.DataFrame(results)\n",
    "results_df.to_csv(\"evaluation_results.csv\", index=False)\n",
    "results_df"
   ],
   "id": "43a3cbc6a0cfc28"
  },
  {
   "metadata": {},
   "cell_type": "code",
   "outputs": [],
   "execution_count": null,
   "source": [
    "import matplotlib.pyplot as plt\n",
    "\n",
    "model_names = [r['model'] for r in results]\n",
    "f1_scores = [r['f1'] for r in results]\n",
    "\n",
    "plt.figure(figsize=(10,6))\n",
    "plt.barh(model_names, f1_scores, color='skyblue')\n",
    "plt.xlabel(\"F1 Score\")\n",
    "plt.title(\"NER Model Comparison\")\n",
    "plt.grid(True)\n",
    "plt.show()"
   ],
   "id": "47e3338c379b4fda"
  },
  {
   "metadata": {},
   "cell_type": "code",
   "outputs": [],
   "execution_count": null,
   "source": "",
   "id": "2e8494d3bbe08a44"
  }
 ],
 "metadata": {
  "kernelspec": {
   "display_name": "Python 3",
   "language": "python",
   "name": "python3"
  },
  "language_info": {
   "codemirror_mode": {
    "name": "ipython",
    "version": 2
   },
   "file_extension": ".py",
   "mimetype": "text/x-python",
   "name": "python",
   "nbconvert_exporter": "python",
   "pygments_lexer": "ipython2",
   "version": "2.7.6"
  }
 },
 "nbformat": 4,
 "nbformat_minor": 5
}
