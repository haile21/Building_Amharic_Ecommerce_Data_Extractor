{
 "cells": [
  {
   "cell_type": "code",
   "execution_count": null,
   "id": "initial_id",
   "metadata": {
    "collapsed": true
   },
   "outputs": [],
   "source": [
    "import numpy as np\n",
    "import pandas as pd\n",
    "import matplotlib.pyplot as plt\n",
    "import seaborn as sns\n",
    "import os \n",
    "import sys \n",
    "sys.path.append(os.path.abspath(os.path.join('..')))\n",
    "from transformers import pipeline\n",
    "from scripts.vendor_scorecard_engine import score_vendors\n",
    "\n",
    "df = pd.read_csv(\"../data/telegram_data.csv\")\n",
    "df.head()"
   ]
  },
  {
   "metadata": {},
   "cell_type": "code",
   "outputs": [],
   "execution_count": null,
   "source": [
    "from transformers import pipeline\n",
    "ner_pipeline = pipeline(\"token-classification\", model=\"Davlan/bert-base-multilingual-cased-ner-hrl\", aggregation_strategy=\"simple\")"
   ],
   "id": "61ec4bf96c248821"
  },
  {
   "metadata": {},
   "cell_type": "code",
   "outputs": [],
   "execution_count": null,
   "source": [
    "# Load scraped Telegram data\n",
    "df = pd.read_csv(\"../data/telegram_data.csv\")"
   ],
   "id": "de56552180355d02"
  },
  {
   "metadata": {},
   "cell_type": "code",
   "outputs": [],
   "execution_count": null,
   "source": [
    "# Normalize column names\n",
    "df.columns = df.columns.str.lower().str.strip()\n",
    "print(\"Columns after load:\", df.columns.tolist())"
   ],
   "id": "51524815a9b26ae"
  },
  {
   "metadata": {},
   "cell_type": "code",
   "outputs": [],
   "execution_count": null,
   "source": [
    "# Rename columns to match expectations in score_vendors\n",
    "df.rename(columns={\n",
    "    'channel title': 'vendor',\n",
    "    'message': 'text',\n",
    "    'date': 'timestamp'\n",
    "}, inplace=True)\n",
    "\n",
    "# Simulate 'views' since missing from data\n",
    "np.random.seed(42)\n",
    "df['views'] = np.random.randint(100, 5000, size=len(df))"
   ],
   "id": "99b9f0bbba17f84a"
  },
  {
   "metadata": {},
   "cell_type": "code",
   "outputs": [],
   "execution_count": null,
   "source": [
    "# Parse timestamps and drop rows with invalid timestamps\n",
    "df['timestamp'] = pd.to_datetime(df['timestamp'], errors='coerce')\n",
    "if df['timestamp'].isnull().any():\n",
    "    print(f\"Dropping {df['timestamp'].isnull().sum()} rows with invalid timestamps\")\n",
    "    df = df.dropna(subset=['timestamp'])\n",
    "\n",
    "# Remove timezone info if present (to avoid warnings in score_vendors)\n",
    "df['timestamp'] = df['timestamp'].dt.tz_localize(None)"
   ],
   "id": "51a075819fea3545"
  },
  {
   "metadata": {},
   "cell_type": "code",
   "outputs": [],
   "execution_count": null,
   "source": [
    "from transformers import AutoTokenizer, AutoModelForTokenClassification, pipeline\n",
    "\n",
    "# Load your model (replace with your model path or Hugging Face model name)\n",
    "model_name = \"Davlan/afro-xlmr-base\"  # or \"models/saved_model_dir\" for local fine-tuned model\n",
    "\n",
    "tokenizer = AutoTokenizer.from_pretrained(model_name)\n",
    "model = AutoModelForTokenClassification.from_pretrained(model_name)\n",
    "\n",
    "# Now define the NER pipeline\n",
    "ner_pipeline = pipeline(\n",
    "    \"token-classification\",\n",
    "    model=model,\n",
    "    tokenizer=tokenizer,\n",
    "    aggregation_strategy=\"simple\"\n",
    ")"
   ],
   "id": "685e8077fc45452a"
  },
  {
   "metadata": {},
   "cell_type": "code",
   "outputs": [],
   "execution_count": null,
   "source": [
    "# Filter out rows with missing or empty text\n",
    "df_with_text = df[df['text'].notna() & (df['text'].str.strip() != '')]\n",
    "\n",
    "score_df = score_vendors(df_with_text, ner_pipeline)\n",
    "score_df.to_csv(\"../data/vendor_scorecard.csv\", index=False)\n",
    "print(score_df.head())"
   ],
   "id": "33e7fc76c13133a9"
  }
 ],
 "metadata": {
  "kernelspec": {
   "display_name": "Python 3",
   "language": "python",
   "name": "python3"
  },
  "language_info": {
   "codemirror_mode": {
    "name": "ipython",
    "version": 2
   },
   "file_extension": ".py",
   "mimetype": "text/x-python",
   "name": "python",
   "nbconvert_exporter": "python",
   "pygments_lexer": "ipython2",
   "version": "2.7.6"
  }
 },
 "nbformat": 4,
 "nbformat_minor": 5
}
