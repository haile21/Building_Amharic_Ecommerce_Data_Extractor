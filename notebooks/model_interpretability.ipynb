{
 "cells": [
  {
   "cell_type": "code",
   "execution_count": null,
   "id": "initial_id",
   "metadata": {
    "collapsed": true
   },
   "outputs": [],
   "source": [
    "import numpy as np\n",
    "import pandas as pd\n",
    "import matplotlib.pyplot as plt\n",
    "import seaborn as sns\n",
    "import os \n",
    "import sys \n",
    "sys.path.append(os.path.abspath(os.path.join('..')))"
   ]
  },
  {
   "metadata": {},
   "cell_type": "code",
   "outputs": [],
   "execution_count": null,
   "source": [
    "import os\n",
    "from transformers import AutoTokenizer, AutoModelForTokenClassification, pipeline\n",
    "\n",
    "# Define model path\n",
    "model_path = \"models/saved_model_dir\"\n",
    "\n",
    "# Check if the model directory exists\n",
    "if os.path.exists(model_path):\n",
    "    print(f\"📦 Loading model from: {model_path}\")\n",
    "    tokenizer = AutoTokenizer.from_pretrained(model_path)\n",
    "    model = AutoModelForTokenClassification.from_pretrained(model_path)\n",
    "    \n",
    "    ner_pipeline = pipeline(\n",
    "        \"token-classification\",\n",
    "        model=model,\n",
    "        tokenizer=tokenizer,\n",
    "        aggregation_strategy=\"simple\"\n",
    "    )\n",
    "\n",
    "    # Example usage\n",
    "    text = \"ስልኩ 0911223344 ነው አድራሻችን አዲስ አበባ\"\n",
    "    results = ner_pipeline(text)\n",
    "    for r in results:\n",
    "        print(f\"{r['word']} → {r['entity_group']} ({r['score']:.2f})\")\n",
    "\n",
    "else:\n",
    "    print(\"⚠️ Trained model not found at 'models/saved_model_dir'.\")\n",
    "    print(\"📄 Found evaluation_results.csv instead — skipping model loading.\")\n",
    "    # You can load or analyze the evaluation_results.csv here\n",
    "    import pandas as pd\n",
    "    df = pd.read_csv(\"evaluation_results.csv\")\n",
    "    print(df.head())\n"
   ],
   "id": "10d0ab719d4dfe64"
  },
  {
   "metadata": {},
   "cell_type": "code",
   "outputs": [],
   "execution_count": null,
   "source": [
    "from transformers import AutoTokenizer, AutoModelForTokenClassification, pipeline\n",
    "\n",
    "# Load your model (replace with your model path or Hugging Face model name)\n",
    "model_name = \"Davlan/afro-xlmr-base\"  # or \"models/saved_model_dir\" for local fine-tuned model\n",
    "\n",
    "tokenizer = AutoTokenizer.from_pretrained(model_name)\n",
    "model = AutoModelForTokenClassification.from_pretrained(model_name)\n",
    "\n",
    "# Now define the NER pipeline\n",
    "ner_pipeline = pipeline(\n",
    "    \"token-classification\",\n",
    "    model=model,\n",
    "    tokenizer=tokenizer,\n",
    "    aggregation_strategy=\"simple\"\n",
    ")"
   ],
   "id": "c68b7f026e267f7"
  },
  {
   "metadata": {},
   "cell_type": "code",
   "outputs": [],
   "execution_count": null,
   "source": [
    "import pandas as pd\n",
    "import matplotlib.pyplot as plt\n",
    "\n",
    "# Load your evaluation CSV\n",
    "df = pd.read_csv(\"evaluation_results.csv\")\n",
    "\n",
    "# Plotting\n",
    "fig, ax = plt.subplots(figsize=(10, 6))\n",
    "metrics = ['accuracy', 'f1', 'precision', 'recall']\n",
    "df.set_index('model')[metrics].plot(kind='barh', ax=ax)\n",
    "\n",
    "plt.title(\"Evaluation Metrics per Model\")\n",
    "plt.xlabel(\"Score\")\n",
    "plt.grid(axis='x', linestyle='--', alpha=0.7)\n",
    "plt.legend(loc='lower right')\n",
    "plt.tight_layout()\n",
    "plt.show()"
   ],
   "id": "edf8dfd3488979df"
  },
  {
   "metadata": {},
   "cell_type": "code",
   "outputs": [],
   "execution_count": null,
   "source": "",
   "id": "4be6768ce6c046a7"
  }
 ],
 "metadata": {
  "kernelspec": {
   "display_name": "Python 3",
   "language": "python",
   "name": "python3"
  },
  "language_info": {
   "codemirror_mode": {
    "name": "ipython",
    "version": 2
   },
   "file_extension": ".py",
   "mimetype": "text/x-python",
   "name": "python",
   "nbconvert_exporter": "python",
   "pygments_lexer": "ipython2",
   "version": "2.7.6"
  }
 },
 "nbformat": 4,
 "nbformat_minor": 5
}
