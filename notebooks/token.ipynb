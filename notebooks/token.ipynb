{
 "cells": [
  {
   "cell_type": "code",
   "execution_count": null,
   "id": "initial_id",
   "metadata": {
    "collapsed": true
   },
   "outputs": [],
   "source": [
    "from google.colab import drive\n",
    "drive.mount('/content/drive')"
   ]
  },
  {
   "metadata": {},
   "cell_type": "code",
   "outputs": [],
   "execution_count": null,
   "source": "!git clone https://github.com/Teddy-GH/Telegram-e-commerce-analytics\n",
   "id": "b49dd5f402ed066a"
  },
  {
   "metadata": {},
   "cell_type": "code",
   "outputs": [],
   "execution_count": null,
   "source": "%cd Telegram-e-commerce-analytics/\n",
   "id": "1fa03d38b86812f2"
  },
  {
   "metadata": {},
   "cell_type": "code",
   "outputs": [],
   "execution_count": null,
   "source": [
    "!git add .\n",
    "!git commit -m \"tokenization\"\n"
   ],
   "id": "6fe7947027897f38"
  },
  {
   "metadata": {},
   "cell_type": "code",
   "outputs": [],
   "execution_count": null,
   "source": [
    "import pandas as pd\n",
    "%pip install amseg\n",
    "%pip install pdf2image\n",
    "%pip install pytesseract\n",
    "from amseg.amharicSegmenter import AmharicSegmenter"
   ],
   "id": "f9d4a2735e28d78b"
  },
  {
   "metadata": {},
   "cell_type": "code",
   "outputs": [],
   "execution_count": null,
   "source": [
    "with open('T:/10-academy/Week4/labeled_telegram_product_price_location.txt', 'r', encoding='utf-8') as file:\n",
    "    lines = file.readlines()\n",
    "\n",
    "# Process lines as needed\n",
    "data = [line.strip().split('\\t') for line in lines]  # Adjust the split based on your delimiter\n",
    "df = pd.DataFrame(data)\n",
    "\n",
    "df"
   ],
   "id": "87102ce01af56bbd"
  },
  {
   "metadata": {},
   "cell_type": "code",
   "outputs": [],
   "execution_count": null,
   "source": [
    "# Initialize the Amharic segmenter\n",
    "sent_punct = []\n",
    "word_punct = []\n",
    "segmenter = AmharicSegmenter(sent_punct, word_punct)\n",
    "# Process lines: separate tokens and labels\n",
    "data = [line.strip().split() for line in lines if line.strip()]  # Split based on spaces\n",
    "tokens = [item[0] for item in data]  # Extract tokens\n",
    "labels = [item[1] for item in data]  # Extract labels"
   ],
   "id": "e132c5abb26201e1"
  },
  {
   "metadata": {},
   "cell_type": "code",
   "outputs": [],
   "execution_count": null,
   "source": [
    "# Function to align tokens with their respective labels\n",
    "def align_tokens_with_labels(tokenizer, tokens, labels):\n",
    "    aligned_tokens = []\n",
    "    aligned_labels = []\n",
    "\n",
    "    # Tokenize each word/token with associated label\n",
    "    for word, label in zip(tokens, labels):\n",
    "        tokenized_word = tokenizer.amharic_tokenizer(word)  # Tokenize the word\n",
    "        aligned_tokens.extend(tokenized_word)  # Add tokens to the list\n",
    "\n",
    "        # Assign the label to the first subtoken and 'O' to subsequent subtokens\n",
    "        aligned_labels.extend([label] + ['O'] * (len(tokenized_word) - 1))\n",
    "\n",
    "    return aligned_tokens, aligned_labels\n",
    "\n",
    "\n",
    "# Example usage with different variable names\n",
    "new_tokens, new_labels = align_tokens_with_labels(segmenter, tokens, labels)\n",
    "\n",
    "\n",
    "# Output the first 20 aligned tokens and labels\n",
    "for token, label in zip(new_tokens[:20], new_labels[:20]):\n",
    "    print(f\"{token}: {label}\")\n"
   ],
   "id": "50f0c13dfcac238b"
  },
  {
   "metadata": {},
   "cell_type": "code",
   "outputs": [],
   "execution_count": null,
   "source": [
    "# Saving the final tokens and labels to a CSV file\n",
    "output_df = pd.DataFrame({'Token': new_tokens, 'Label': new_labels})\n",
    "output_df.to_csv('T:/10-academy/Week4/final_tokens_labels.csv', index=False)"
   ],
   "id": "100e0cfcc347f4ae"
  },
  {
   "metadata": {},
   "cell_type": "code",
   "outputs": [],
   "execution_count": null,
   "source": [
    "!git add .\n",
    "!git commit -m\"tokenization\"\n"
   ],
   "id": "d7bd8486616d352f"
  }
 ],
 "metadata": {
  "kernelspec": {
   "display_name": "Python 3",
   "language": "python",
   "name": "python3"
  },
  "language_info": {
   "codemirror_mode": {
    "name": "ipython",
    "version": 2
   },
   "file_extension": ".py",
   "mimetype": "text/x-python",
   "name": "python",
   "nbconvert_exporter": "python",
   "pygments_lexer": "ipython2",
   "version": "2.7.6"
  }
 },
 "nbformat": 4,
 "nbformat_minor": 5
}
